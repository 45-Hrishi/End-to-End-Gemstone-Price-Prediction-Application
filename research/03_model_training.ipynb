{
 "cells": [
  {
   "cell_type": "code",
   "execution_count": 11,
   "metadata": {},
   "outputs": [],
   "source": [
    "import os\n",
    "import sys\n",
    "from logger.logger import logging\n",
    "from pathlib import Path\n",
    "from dataclasses import dataclass\n",
    "from exception.exception import customexception\n",
    "from utils.common import create_directories,save_object,read_yaml,evaluate_model,get_transform_data\n",
    "from sklearn.linear_model import LinearRegression,ElasticNet,Ridge,Lasso\n",
    "from xgboost import XGBRegressor\n",
    "from sklearn.ensemble import RandomForestRegressor"
   ]
  },
  {
   "cell_type": "code",
   "execution_count": 12,
   "metadata": {},
   "outputs": [],
   "source": [
    "#config_entity -> configuration_manager -> component -> pipeline -> main"
   ]
  },
  {
   "cell_type": "code",
   "execution_count": 13,
   "metadata": {},
   "outputs": [],
   "source": [
    "@dataclass(frozen=True)\n",
    "class ModelTrainingConfig:\n",
    "    root_dir: Path\n",
    "    trained_model_path: Path\n",
    "    transform_data_path: Path"
   ]
  },
  {
   "cell_type": "code",
   "execution_count": 14,
   "metadata": {},
   "outputs": [],
   "source": [
    "from constants import CONFIG_FILE_PATH\n",
    "\n",
    "class ConfigurationManager:\n",
    "    def __init__(self,config_file_path=CONFIG_FILE_PATH):\n",
    "        self.config = read_yaml(config_file_path)\n",
    "        create_directories([self.config.artifacts_root])\n",
    "        \n",
    "    def get_model_trainer_config(self)->ModelTrainingConfig:\n",
    "        training_config = self.config.model_training\n",
    "        transform_config = self.config.data_transformation\n",
    "        \n",
    "        create_directories([training_config.root_dir])\n",
    "        model_trainer_config = ModelTrainingConfig(\n",
    "            root_dir = training_config.root_dir,\n",
    "            trained_model_path=training_config.model_path,\n",
    "            transform_data_path=transform_config.transform_data_files\n",
    "        )\n",
    "        return model_trainer_config"
   ]
  },
  {
   "cell_type": "code",
   "execution_count": 18,
   "metadata": {},
   "outputs": [],
   "source": [
    "from utils.common import evaluate_model\n",
    "class ModelTraining:\n",
    "    def __init__(self,config:ModelTrainingConfig):\n",
    "        self.config = config\n",
    "        \n",
    "    def best_model(self):\n",
    "        try:\n",
    "            logging.info(\"Searching for best model with highest accuracy\")\n",
    "            X_train,y_train,X_test,y_test = get_transform_data(path_to_folder=self.config.transform_data_path)\n",
    "            models = {\n",
    "                \"LinearRegression\":LinearRegression(),\n",
    "                \"LassoRegression\":Lasso(),\n",
    "                \"RidgeRegression\":Ridge(),\n",
    "                \"ElasticNet\":ElasticNet(),\n",
    "                \"XGBoost\":XGBRegressor(),\n",
    "                \"RandomForest\":RandomForestRegressor()\n",
    "            }\n",
    "            report = evaluate_model(X_train,y_train,X_test,y_test,models)\n",
    "            # print(report)\n",
    "            model_dict = sorted(report.items(),key=lambda item:item[1],reverse=True)\n",
    "            print(model_dict)\n",
    "            model_obj,accuracy = model_dict[0]\n",
    "            logging.info(f\"{model_obj} has highest accuracy of {accuracy}\")\n",
    "            return model_obj,X_train,y_train\n",
    "        except Exception as e:\n",
    "            raise customexception(e,sys)\n",
    "        \n",
    "    def trainer(self):\n",
    "        model_obj,X_train,y_train = self.best_model()\n",
    "        model_obj = model_obj.fit(X_train,y_train)\n",
    "        save_object(self.config.trained_model_path,model_obj)\n",
    "    \n",
    "    "
   ]
  },
  {
   "cell_type": "code",
   "execution_count": 19,
   "metadata": {},
   "outputs": [],
   "source": [
    "#cd .."
   ]
  },
  {
   "cell_type": "code",
   "execution_count": 20,
   "metadata": {},
   "outputs": [
    {
     "name": "stdout",
     "output_type": "stream",
     "text": [
      "{'LinearRegression': LinearRegression(), 'LassoRegression': Lasso(), 'RidgeRegression': Ridge(), 'ElasticNet': ElasticNet(), 'XGBoost': XGBRegressor(base_score=None, booster=None, callbacks=None,\n",
      "             colsample_bylevel=None, colsample_bynode=None,\n",
      "             colsample_bytree=None, device=None, early_stopping_rounds=None,\n",
      "             enable_categorical=False, eval_metric=None, feature_types=None,\n",
      "             gamma=None, grow_policy=None, importance_type=None,\n",
      "             interaction_constraints=None, learning_rate=None, max_bin=None,\n",
      "             max_cat_threshold=None, max_cat_to_onehot=None,\n",
      "             max_delta_step=None, max_depth=None, max_leaves=None,\n",
      "             min_child_weight=None, missing=nan, monotone_constraints=None,\n",
      "             multi_strategy=None, n_estimators=None, n_jobs=None,\n",
      "             num_parallel_tree=None, random_state=None, ...), 'RandomForest': RandomForestRegressor()}\n",
      "[(XGBRegressor(base_score=None, booster=None, callbacks=None,\n",
      "             colsample_bylevel=None, colsample_bynode=None,\n",
      "             colsample_bytree=None, device=None, early_stopping_rounds=None,\n",
      "             enable_categorical=False, eval_metric=None, feature_types=None,\n",
      "             gamma=None, grow_policy=None, importance_type=None,\n",
      "             interaction_constraints=None, learning_rate=None, max_bin=None,\n",
      "             max_cat_threshold=None, max_cat_to_onehot=None,\n",
      "             max_delta_step=None, max_depth=None, max_leaves=None,\n",
      "             min_child_weight=None, missing=nan, monotone_constraints=None,\n",
      "             multi_strategy=None, n_estimators=None, n_jobs=None,\n",
      "             num_parallel_tree=None, random_state=None, ...), 0.9797119449526223), (RandomForestRegressor(), 0.9779217048245091), (Lasso(), 0.9275572088702562), (Ridge(), 0.9221584130892713), (LinearRegression(), 0.9220412457904676), (ElasticNet(), 0.8516269951756215)]\n"
     ]
    }
   ],
   "source": [
    "try:\n",
    "    logging.info(\"Model training Started\")\n",
    "    config = ConfigurationManager()\n",
    "    model_training_config = config.get_model_trainer_config()\n",
    "    model_training = ModelTraining(model_training_config)\n",
    "    model_training.trainer()\n",
    "    logging.info(\"Model training Completed\")\n",
    "except Exception as e:\n",
    "    raise customexception(e,sys)"
   ]
  },
  {
   "cell_type": "code",
   "execution_count": null,
   "metadata": {},
   "outputs": [],
   "source": []
  },
  {
   "cell_type": "code",
   "execution_count": null,
   "metadata": {},
   "outputs": [
    {
     "name": "stdout",
     "output_type": "stream",
     "text": [
      "LinearRegression\n",
      "LassoRegression\n",
      "RidgeRegression\n",
      "ElasticNet\n",
      "XGBoost\n",
      "RandomForest\n"
     ]
    }
   ],
   "source": [
    "models = {\n",
    "            \"LinearRegression\":LinearRegression(),\n",
    "            \"LassoRegression\":Lasso(),\n",
    "            \"RidgeRegression\":Ridge(),\n",
    "            \"ElasticNet\":ElasticNet(),\n",
    "            \"XGBoost\":XGBRegressor(),\n",
    "            \"RandomForest\":RandomForestRegressor()\n",
    "        }\n",
    "report = {}\n",
    "for i in range(len(models)):\n",
    "    model = list(models.values())[i]\n",
    "    key_n = list(models.keys())[i]\n",
    "    print(key_n)"
   ]
  },
  {
   "cell_type": "code",
   "execution_count": null,
   "metadata": {},
   "outputs": [],
   "source": []
  }
 ],
 "metadata": {
  "kernelspec": {
   "display_name": "gemprediction",
   "language": "python",
   "name": "python3"
  },
  "language_info": {
   "codemirror_mode": {
    "name": "ipython",
    "version": 3
   },
   "file_extension": ".py",
   "mimetype": "text/x-python",
   "name": "python",
   "nbconvert_exporter": "python",
   "pygments_lexer": "ipython3",
   "version": "3.8.0"
  }
 },
 "nbformat": 4,
 "nbformat_minor": 2
}
