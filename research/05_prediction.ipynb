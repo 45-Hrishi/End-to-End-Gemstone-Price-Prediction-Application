{
 "cells": [
  {
   "cell_type": "code",
   "execution_count": 1,
   "metadata": {},
   "outputs": [],
   "source": [
    "import os\n",
    "import sys\n",
    "from utils.common import load_object,read_yaml,create_directories\n",
    "from exception.exception import customexception\n",
    "from logger.logger import logging\n",
    "from dataclasses import dataclass\n",
    "from pathlib import Path\n",
    "import pandas as pd\n",
    "import numpy as np"
   ]
  },
  {
   "cell_type": "code",
   "execution_count": 2,
   "metadata": {},
   "outputs": [],
   "source": [
    "#config_entity\n",
    "@dataclass(frozen=True)\n",
    "class ModelPredictionConfig:\n",
    "    preprocessor_obj_path: Path\n",
    "    model_path: Path\n"
   ]
  },
  {
   "cell_type": "code",
   "execution_count": 3,
   "metadata": {},
   "outputs": [],
   "source": [
    "from constants import CONFIG_FILE_PATH\n",
    "class ConfigurationManager:\n",
    "    def __init__(self,config_filepath=CONFIG_FILE_PATH):\n",
    "        self.config = read_yaml(config_filepath)\n",
    "        create_directories([self.config.artifacts_root])\n",
    "        \n",
    "    def get_prediction_config(self)->ModelPredictionConfig:\n",
    "        training_config = self.config.model_training\n",
    "        datatransform_config = self.config.data_transformation\n",
    "        \n",
    "        preprocessor_path = os.path.join(datatransform_config.preprocessed_data_files,\"preprocessor.pkl\")\n",
    "        \n",
    "        prediction_config = ModelPredictionConfig(\n",
    "            preprocessor_obj_path=preprocessor_path,\n",
    "            model_path=training_config.model_path\n",
    "        )\n",
    "        \n",
    "        return prediction_config"
   ]
  },
  {
   "cell_type": "code",
   "execution_count": 4,
   "metadata": {},
   "outputs": [],
   "source": [
    "# component file\n",
    "class ModelPrediction:\n",
    "    def __init__(self,config:ModelPredictionConfig):\n",
    "        self.config = config\n",
    "    \n",
    "    def predict(self,input_data):\n",
    "        try:\n",
    "            preprocessor = load_object(self.config.preprocessor_obj_path)\n",
    "            model = load_object(self.config.model_path)\n",
    "            \n",
    "            transform_data = preprocessor.transform(input_data)\n",
    "            print(transform_data)\n",
    "            \n",
    "            prediction_result = model.predict(transform_data)\n",
    "            print(prediction_result)\n",
    "            \n",
    "            logging.info(f\"Prediction result : {prediction_result}\")\n",
    "            return prediction_result\n",
    "            \n",
    "        except Exception as e:\n",
    "            raise customexception(e,sys)"
   ]
  },
  {
   "cell_type": "code",
   "execution_count": 8,
   "metadata": {},
   "outputs": [],
   "source": [
    "class CustomData:\n",
    "    def __init__(self,\n",
    "                 carat:float,\n",
    "                 depth:float,\n",
    "                 table:float,\n",
    "                 x:float,\n",
    "                 y:float,\n",
    "                 z:float,\n",
    "                 cut:str,\n",
    "                 color:str,\n",
    "                 clarity:str):\n",
    "        self.carat=carat\n",
    "        self.depth=depth\n",
    "        self.table=table\n",
    "        self.x=x\n",
    "        self.y=y\n",
    "        self.z=z\n",
    "        self.cut = cut\n",
    "        self.color = color\n",
    "        self.clarity = clarity\n",
    "    def get_data_as_dataframe(self):\n",
    "        try:\n",
    "            custom_data_input_dict = {\n",
    "                'carat':[self.carat],\n",
    "                'depth':[self.depth],\n",
    "                'table':[self.table],\n",
    "                'x':[self.x],\n",
    "                'y':[self.y],\n",
    "                'z':[self.z],\n",
    "                'cut':[self.cut],\n",
    "                'color':[self.color],\n",
    "                'clarity':[self.clarity]\n",
    "            }\n",
    "            df = pd.DataFrame(custom_data_input_dict)\n",
    "            logging.info(\"Dataframe Created successfully\")\n",
    "            return df\n",
    "        except Exception as e:\n",
    "            raise customexception(e,sys)"
   ]
  },
  {
   "cell_type": "code",
   "execution_count": 5,
   "metadata": {},
   "outputs": [
    {
     "name": "stdout",
     "output_type": "stream",
     "text": [
      "e:\\Programming\\Projects\\Machine Learning Projects\\GemStonePricePrediction\n"
     ]
    }
   ],
   "source": [
    "#cd .."
   ]
  },
  {
   "cell_type": "code",
   "execution_count": 9,
   "metadata": {},
   "outputs": [
    {
     "ename": "customexception",
     "evalue": "Error occured in python script name [C:\\Users\\admin\\AppData\\Local\\Temp\\ipykernel_3860\\2762466388.py] line number [6] error message [__init__() missing 9 required positional arguments: 'carat', 'depth', 'table', 'x', 'y', 'z', 'cut', 'color', and 'clarity']",
     "output_type": "error",
     "traceback": [
      "\u001b[1;31m---------------------------------------------------------------------------\u001b[0m",
      "\u001b[1;31mTypeError\u001b[0m                                 Traceback (most recent call last)",
      "Cell \u001b[1;32mIn[9], line 6\u001b[0m\n\u001b[0;32m      5\u001b[0m model_prediction \u001b[38;5;241m=\u001b[39m ModelPrediction(model_prediction_Config)\n\u001b[1;32m----> 6\u001b[0m custom_data_obj \u001b[38;5;241m=\u001b[39m \u001b[43mCustomData\u001b[49m\u001b[43m(\u001b[49m\u001b[43m)\u001b[49m\n\u001b[0;32m      7\u001b[0m input_data \u001b[38;5;241m=\u001b[39m custom_data_obj\u001b[38;5;241m.\u001b[39mget_data_as_dataframe()\n",
      "\u001b[1;31mTypeError\u001b[0m: __init__() missing 9 required positional arguments: 'carat', 'depth', 'table', 'x', 'y', 'z', 'cut', 'color', and 'clarity'",
      "\nDuring handling of the above exception, another exception occurred:\n",
      "\u001b[1;31mcustomexception\u001b[0m                           Traceback (most recent call last)",
      "Cell \u001b[1;32mIn[9], line 11\u001b[0m\n\u001b[0;32m      9\u001b[0m     logging\u001b[38;5;241m.\u001b[39minfo(\u001b[38;5;124m\"\u001b[39m\u001b[38;5;124mModel prediction completed\u001b[39m\u001b[38;5;124m\"\u001b[39m)\n\u001b[0;32m     10\u001b[0m \u001b[38;5;28;01mexcept\u001b[39;00m \u001b[38;5;167;01mException\u001b[39;00m \u001b[38;5;28;01mas\u001b[39;00m e:\n\u001b[1;32m---> 11\u001b[0m     \u001b[38;5;28;01mraise\u001b[39;00m customexception(e,sys)\n",
      "\u001b[1;31mcustomexception\u001b[0m: Error occured in python script name [C:\\Users\\admin\\AppData\\Local\\Temp\\ipykernel_3860\\2762466388.py] line number [6] error message [__init__() missing 9 required positional arguments: 'carat', 'depth', 'table', 'x', 'y', 'z', 'cut', 'color', and 'clarity']"
     ]
    }
   ],
   "source": [
    "\n",
    "try:\n",
    "    logging.info(\"Model prediction started\")\n",
    "    config = ConfigurationManager()\n",
    "    model_prediction_Config = config.get_prediction_config()\n",
    "    model_prediction = ModelPrediction(model_prediction_Config)\n",
    "    custom_data_obj = CustomData()\n",
    "    input_data = custom_data_obj.get_data_as_dataframe()\n",
    "    model_prediction.predict(input_data)\n",
    "    logging.info(\"Model prediction completed\")\n",
    "except Exception as e:\n",
    "    raise customexception(e,sys)"
   ]
  },
  {
   "cell_type": "code",
   "execution_count": null,
   "metadata": {},
   "outputs": [],
   "source": []
  }
 ],
 "metadata": {
  "kernelspec": {
   "display_name": "gemprediction",
   "language": "python",
   "name": "python3"
  },
  "language_info": {
   "codemirror_mode": {
    "name": "ipython",
    "version": 3
   },
   "file_extension": ".py",
   "mimetype": "text/x-python",
   "name": "python",
   "nbconvert_exporter": "python",
   "pygments_lexer": "ipython3",
   "version": "3.8.0"
  }
 },
 "nbformat": 4,
 "nbformat_minor": 2
}
