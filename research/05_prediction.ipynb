{
 "cells": [
  {
   "cell_type": "code",
   "execution_count": 1,
   "metadata": {},
   "outputs": [],
   "source": [
    "import os\n",
    "import sys\n",
    "from utils.common import load_object,read_yaml,create_directories\n",
    "from exception.exception import customexception\n",
    "from logger.logger import logging\n",
    "from dataclasses import dataclass\n",
    "from pathlib import Path\n",
    "import pandas as pd\n",
    "import numpy as np"
   ]
  },
  {
   "cell_type": "code",
   "execution_count": 2,
   "metadata": {},
   "outputs": [],
   "source": [
    "#config_entity\n",
    "@dataclass(frozen=True)\n",
    "class ModelPredictionConfig:\n",
    "    preprocessor_obj_path: Path\n",
    "    model_path: Path\n"
   ]
  },
  {
   "cell_type": "code",
   "execution_count": 3,
   "metadata": {},
   "outputs": [],
   "source": [
    "from constants import CONFIG_FILE_PATH\n",
    "class ConfigurationManager:\n",
    "    def __init__(self,config_filepath=CONFIG_FILE_PATH):\n",
    "        self.config = read_yaml(config_filepath)\n",
    "        create_directories([self.config.artifacts_root])\n",
    "        \n",
    "    def get_prediction_config(self)->ModelPredictionConfig:\n",
    "        training_config = self.config.model_training\n",
    "        datatransform_config = self.config.data_transformation\n",
    "        \n",
    "        preprocessor_path = os.path.join(datatransform_config.preprocessed_data_files,\"preprocessor.pkl\")\n",
    "        \n",
    "        prediction_config = ModelPredictionConfig(\n",
    "            preprocessor_obj_path=preprocessor_path,\n",
    "            model_path=training_config.model_path\n",
    "        )\n",
    "        \n",
    "        return prediction_config"
   ]
  },
  {
   "cell_type": "code",
   "execution_count": 4,
   "metadata": {},
   "outputs": [],
   "source": [
    "# component file\n",
    "class ModelPrediction:\n",
    "    def __init__(self,config:ModelPredictionConfig):\n",
    "        self.config = config\n",
    "    \n",
    "    def predict(self,input_data):\n",
    "        try:\n",
    "            preprocessor = load_object(self.config.preprocessor_obj_path)\n",
    "            model = load_object(self.config.model_path)\n",
    "            \n",
    "            transform_data = preprocessor.transform(input_data)\n",
    "            print(transform_data)\n",
    "            \n",
    "            prediction_result = model.predict(transform_data)\n",
    "            print(prediction_result)\n",
    "            \n",
    "            logging.info(f\"Prediction result : {prediction_result}\")\n",
    "            return prediction_result\n",
    "            \n",
    "        except Exception as e:\n",
    "            raise customexception(e,sys)"
   ]
  },
  {
   "cell_type": "code",
   "execution_count": 5,
   "metadata": {},
   "outputs": [
    {
     "name": "stdout",
     "output_type": "stream",
     "text": [
      "e:\\Programming\\Projects\\Machine Learning Projects\\GemStonePricePrediction\n"
     ]
    }
   ],
   "source": [
    "cd .."
   ]
  },
  {
   "cell_type": "code",
   "execution_count": 7,
   "metadata": {},
   "outputs": [
    {
     "name": "stdout",
     "output_type": "stream",
     "text": [
      "[[-0.1944146   1.09005228 -0.63937207 -0.04821015 -0.02557611  0.06828201\n",
      "   2.          3.          3.        ]]\n",
      "[2512.7354]\n"
     ]
    }
   ],
   "source": [
    "\n",
    "try:\n",
    "    logging.info(\"Model prediction started\")\n",
    "    config = ConfigurationManager()\n",
    "    model_prediction_Config = config.get_prediction_config()\n",
    "    model_prediction = ModelPrediction(model_prediction_Config)\n",
    "    input_dict = {\n",
    "                'carat':0.7,\n",
    "                'depth':63.0,\n",
    "                'table':56.0,\n",
    "                'x':5.66,\n",
    "                'y':5.69,\n",
    "                'z':3.58,\n",
    "                'cut':'Very Good',\n",
    "                'color':'G',\n",
    "                'clarity':'VS2'\n",
    "                }\n",
    "    input_data = pd.DataFrame([input_dict])\n",
    "    model_prediction.predict(input_data)\n",
    "    logging.info(\"Model prediction completed\")\n",
    "except Exception as e:\n",
    "    raise customexception(e,sys)"
   ]
  }
 ],
 "metadata": {
  "kernelspec": {
   "display_name": "gemprediction",
   "language": "python",
   "name": "python3"
  },
  "language_info": {
   "codemirror_mode": {
    "name": "ipython",
    "version": 3
   },
   "file_extension": ".py",
   "mimetype": "text/x-python",
   "name": "python",
   "nbconvert_exporter": "python",
   "pygments_lexer": "ipython3",
   "version": "3.8.0"
  }
 },
 "nbformat": 4,
 "nbformat_minor": 2
}
