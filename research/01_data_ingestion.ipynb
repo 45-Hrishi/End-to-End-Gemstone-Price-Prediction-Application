{
 "cells": [
  {
   "cell_type": "code",
   "execution_count": 1,
   "metadata": {},
   "outputs": [],
   "source": [
    "# Config entity creation started\n",
    "from dataclasses import dataclass\n",
    "from pathlib import Path\n",
    "\n",
    "@dataclass(frozen=True)\n",
    "class DataIngestionConfig:\n",
    "    root_dir: Path\n",
    "    local_data_file:Path\n",
    "    unzip_dir: Path\n"
   ]
  },
  {
   "cell_type": "code",
   "execution_count": 2,
   "metadata": {},
   "outputs": [],
   "source": [
    "from ensure import ensure_annotations\n",
    "from box import ConfigBox\n",
    "from box.exceptions import BoxValueError"
   ]
  },
  {
   "cell_type": "code",
   "execution_count": 3,
   "metadata": {},
   "outputs": [],
   "source": [
    "# Configuration manager creation started\n",
    "from constants import CONFIG_FILE_PATH\n",
    "from utils.common import create_directories,read_yaml\n",
    "\n",
    "class ConfigurationManger:\n",
    "    def __init__(self,config_filepath=CONFIG_FILE_PATH):\n",
    "        self.config = read_yaml(config_filepath)\n",
    "        create_directories([self.config.artifacts_root])\n",
    "        \n",
    "    def get_dataingestion_config(self)->DataIngestionConfig:\n",
    "        config = self.config.data_ingestion\n",
    "        create_directories([config.root_dir])\n",
    "        data_ingestion_config = DataIngestionConfig(\n",
    "            root_dir=config.root_dir,\n",
    "            local_data_file=config.local_data_file,\n",
    "            unzip_dir=config.unzip_dir\n",
    "        )\n",
    "        return data_ingestion_config"
   ]
  },
  {
   "cell_type": "code",
   "execution_count": 19,
   "metadata": {},
   "outputs": [],
   "source": [
    "# Component creation started\n",
    "import os\n",
    "import zipfile\n",
    "from utils.common import create_directories\n",
    "from logger.logger import logging\n",
    "from exception.exception import customexception\n",
    "import sys\n",
    "from pathlib import Path\n",
    "from kaggle.api.kaggle_api_extended import KaggleApi\n",
    "from dotenv import load_dotenv\n",
    "\n",
    "class DataIngestion:\n",
    "    def __init__(self,config:DataIngestionConfig):\n",
    "        self.config = config\n",
    "        \n",
    "    def download_file(self):\n",
    "        try:\n",
    "            download_dir = self.config.local_data_file\n",
    "            root_dir = self.config.root_dir\n",
    "            create_directories([self.config.root_dir])\n",
    "            \n",
    "            # authenticate with kaggle\n",
    "            os.environ['KAGGLE_USERNAME'] = os.getenv('KAGGLE_USERNAME')\n",
    "            os.environ['KAGGLE_KEY'] = os.getenv('KAGGLE_KEY')\n",
    "            api = KaggleApi()\n",
    "            api.authenticate()\n",
    "            logging.info(\"Authentication succesful\")\n",
    "            api.competition_download_files('playground-series-s3e8', path=root_dir)\n",
    "            \n",
    "            for _file in os.listdir(\"artifacts/data_ingestion\"):\n",
    "                if _file == \"playground-series-s3e8.zip\":\n",
    "                    current_path = os.path.join(\"artifacts/data_ingestion\",_file)\n",
    "                    new_path= os.path.join(\"artifacts/data_ingestion\",\"data.zip\")\n",
    "                    os.rename(current_path,new_path)\n",
    "                    break\n",
    "                \n",
    "            logging.info(f\"Downloading data into the {download_dir}\")\n",
    "        except Exception as e:\n",
    "            customexception(e,sys)\n",
    "            \n",
    "    def extract_zipfile(self):\n",
    "        unzip_path = Path(self.config.unzip_dir)\n",
    "        create_directories([unzip_path])\n",
    "        with zipfile.ZipFile(self.config.local_data_file,'r') as zip_ref:\n",
    "            zip_ref.extractall(unzip_path)\n",
    "        req_files = [\"train.csv\",\"test.csv\"]\n",
    "        for file_ in os.listdir(self.config.root_dir):\n",
    "            if not file_ in req_files:\n",
    "                file_path = os.path.join(self.config.root_dir,file_)\n",
    "                os.remove(file_path)\n",
    "            \n",
    "        logging.info(\"Unzipping of data completed\")\n",
    "        \n",
    "        "
   ]
  },
  {
   "cell_type": "code",
   "execution_count": 20,
   "metadata": {},
   "outputs": [],
   "source": [
    "# for _file in os.listdir(\"artifacts/data_ingestion\"):\n",
    "#     current_path = os.path.join(\"artifacts/data_ingestion\",_file)\n",
    "#     new_path= os.path.join(\"artifacts/data_ingestion\",\"data.zip\")\n",
    "#     os.rename(current_path,new_path)"
   ]
  },
  {
   "cell_type": "code",
   "execution_count": 21,
   "metadata": {},
   "outputs": [],
   "source": [
    "# req_files = [\"train.csv\",\"test.csv\"]\n",
    "# for file_ in os.listdir(\"artifacts/data_ingestion\"):\n",
    "#     if not file_ in req_files:\n",
    "#         file_path = os.path.join(\"artifacts/data_ingestion\",file_)\n",
    "#         os.remove(file_path)"
   ]
  },
  {
   "cell_type": "code",
   "execution_count": 22,
   "metadata": {},
   "outputs": [
    {
     "data": {
      "text/plain": [
       "'e:\\\\Programming\\\\Projects\\\\Machine Learning Projects\\\\GemStonePricePrediction'"
      ]
     },
     "execution_count": 22,
     "metadata": {},
     "output_type": "execute_result"
    }
   ],
   "source": [
    "pwd"
   ]
  },
  {
   "cell_type": "code",
   "execution_count": 23,
   "metadata": {},
   "outputs": [],
   "source": [
    "#cd .."
   ]
  },
  {
   "cell_type": "code",
   "execution_count": 24,
   "metadata": {},
   "outputs": [],
   "source": [
    "try:\n",
    "    logging.info(\"Data Ingestion Started\")\n",
    "    config = ConfigurationManger()\n",
    "    data_ingestion_config = config.get_dataingestion_config()\n",
    "    data_ingestion = DataIngestion(config=data_ingestion_config)\n",
    "    data_ingestion.download_file()\n",
    "    data_ingestion.extract_zipfile()\n",
    "    logging.info(\"Data Ingestion Completed\")\n",
    "except Exception as e:\n",
    "    raise e"
   ]
  },
  {
   "cell_type": "code",
   "execution_count": null,
   "metadata": {},
   "outputs": [],
   "source": []
  }
 ],
 "metadata": {
  "kernelspec": {
   "display_name": "gemprediction",
   "language": "python",
   "name": "python3"
  },
  "language_info": {
   "codemirror_mode": {
    "name": "ipython",
    "version": 3
   },
   "file_extension": ".py",
   "mimetype": "text/x-python",
   "name": "python",
   "nbconvert_exporter": "python",
   "pygments_lexer": "ipython3",
   "version": "3.8.0"
  }
 },
 "nbformat": 4,
 "nbformat_minor": 2
}
